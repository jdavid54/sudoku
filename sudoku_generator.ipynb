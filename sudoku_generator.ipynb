{
 "cells": [
  {
   "cell_type": "code",
   "execution_count": 34,
   "metadata": {},
   "outputs": [
    {
     "name": "stdout",
     "output_type": "stream",
     "text": [
      "[[5 6 9 1 7 2 3 4 8]\n",
      " [1 2 4 3 8 5 7 9 6]\n",
      " [8 3 7 4 6 9 2 5 1]\n",
      " [3 5 8 6 2 7 9 1 4]\n",
      " [2 9 1 5 3 4 8 6 7]\n",
      " [7 4 6 9 1 8 5 3 2]\n",
      " [4 8 3 2 5 6 1 7 9]\n",
      " [6 7 5 8 9 1 4 2 3]\n",
      " [9 1 2 7 4 3 6 8 5]]\n",
      "[[0 0 9 0 0 2 0 0 8]\n",
      " [0 0 4 0 0 0 7 0 6]\n",
      " [0 0 0 0 6 0 0 0 1]\n",
      " [3 0 8 0 0 0 9 0 4]\n",
      " [0 9 1 5 3 4 0 6 7]\n",
      " [0 0 0 0 1 8 0 0 2]\n",
      " [0 0 0 2 0 0 0 7 9]\n",
      " [0 0 0 8 0 0 0 0 3]\n",
      " [0 1 2 0 0 0 6 0 5]]\n"
     ]
    }
   ],
   "source": [
    "import numpy as np\n",
    "\n",
    "class Sudoku(object): \n",
    "    '''\n",
    "    #\n",
    "    int mat[]; \n",
    "    int N; // number of columns/rows. \n",
    "    int SRN; // square root of N \n",
    "    int K; // No. Of missing digits\n",
    "    '''\n",
    "    #Constructor \n",
    "    #Sudoku(int N, int K) \n",
    "    def __init__(self,N,K):\n",
    "        self.N = N \n",
    "        self.K = K \n",
    "        self.sol = []\n",
    "\n",
    "        # Compute square root of N \n",
    "        SRNd = np.sqrt(self.N) \n",
    "        self.SRN = int(SRNd)\n",
    "        #print(self.SRN)\n",
    "\n",
    "        self.mat = np.array([[0]*N]*N)\n",
    "        \n",
    "    def fillValues(self) :\n",
    "        # Fill the diagonal of SRN x SRN matrices \n",
    "        self.fillDiagonal() \n",
    "        #print(self.mat)\n",
    "        # Fill remaining blocks \n",
    "        self.fillRemaining(0, self.SRN) \n",
    "        print(self.mat)\n",
    "        self.sol = self.mat\n",
    "        # Remove Randomly K digits to make game \n",
    "        self.removeKDigits()\n",
    "        return self.mat\n",
    "        \n",
    "    # Fill the diagonal SRN number of SRN x SRN matrices \n",
    "    def fillDiagonal(self):\n",
    "        for i in range(0, self.N, self.SRN):       #(int i = 0; i<N; i=i+SRN) \n",
    "            # for diagonal box, start coordinates->i==j \n",
    "            self.fillBox(i, i) \n",
    "\n",
    "    # Returns false if given 3 x 3 block contains num. \n",
    "    def unUsedInBox(self, rowStart, colStart, num):\n",
    "        for i in range(self.SRN):         #(int i = 0; i<SRN; i++) \n",
    "            for j in range(self.SRN):      #(int j = 0; j<SRN; j++) \n",
    "                if (self.mat[rowStart+i][colStart+j]==num): \n",
    "                    return False\n",
    "        return True\n",
    "\n",
    "    # Fill a 3 x 3 matrix. \n",
    "    def fillBox(self, row, col):\n",
    "        num=0\n",
    "        #N = self.N\n",
    "        for i in range(self.SRN):      #(int i=0; i<SRN; i++)         \n",
    "            for j in range(self.SRN):  #(int j=0; j<SRN; j++) \n",
    "                while not(self.unUsedInBox(row, col, num)):\n",
    "                    num = self.randomGenerator(self.N); \n",
    "                self.mat[row+i][col+j] = num; \n",
    "\n",
    "                \n",
    "    # Random generator \n",
    "    def randomGenerator(self, num):\n",
    "        return np.floor((np.random.random()*num)+1); \n",
    "\n",
    "    # Check if safe to put in cell \n",
    "    def CheckIfSafe(self, i, j, num): \n",
    "        return (self.unUsedInRow(i, num) and \n",
    "                self.unUsedInCol(j, num) and \n",
    "                self.unUsedInBox(i-i%self.SRN, j-j%self.SRN, num)); \n",
    "\n",
    "\n",
    "    # check in the row for existence \n",
    "    def unUsedInRow(self, i, num): \n",
    "        for j in range(self.N):        #(int j = 0; j<N; j++) \n",
    "          if (self.mat[i][j] == num): \n",
    "                return False;\n",
    "        return True \n",
    "\n",
    "    # check in the row for existence \n",
    "    def unUsedInCol(self, j, num): \n",
    "        for i in range(self.N):       #(int i = 0; i<N; i++) \n",
    "            if (self.mat[i][j] == num): \n",
    "                return False \n",
    "        return True\n",
    "\n",
    "    # A recursive function to fill remaining \n",
    "    # matrix \n",
    "    def fillRemaining(self, i, j) :\n",
    "        N = self.N\n",
    "        # System.out.println(i+\" \"+j); \n",
    "        if (j>=N and i<N-1): \n",
    "            i = i + 1\n",
    "            j = 0\n",
    "\n",
    "        if (i>=N and j>=N): \n",
    "            return true; \n",
    "\n",
    "        if (i < self.SRN): \n",
    "        \n",
    "            if (j < self.SRN): \n",
    "                j = self.SRN\n",
    "        \n",
    "        elif (i < N - self.SRN) :\n",
    "        \n",
    "            if (j==(int)(i/self.SRN)*self.SRN) :\n",
    "                j = j + self.SRN\n",
    "        \n",
    "        elif (j == N - self.SRN): \n",
    "                i = i + 1 \n",
    "                j = 0 \n",
    "                if (i>=N): \n",
    "                    return True\n",
    "\n",
    "        for num in range(1,N+1):     #(int num = 1; num<=N; num++) \n",
    "            if (self.CheckIfSafe(i, j, num)):          \n",
    "                self.mat[i][j] = num \n",
    "                if (self.fillRemaining(i, j+1)): \n",
    "                    return True\n",
    "                self.mat[i][j] = 0     \n",
    "        return False\n",
    "\n",
    "\n",
    "    # Remove the K no. of digits to \n",
    "    # complete game \n",
    "    def removeKDigits(self):\n",
    "        count = self.K\n",
    "        N = self.N\n",
    "        while (count != 0): \n",
    "            cellId = self.randomGenerator(N*N) \n",
    "            # extract coordinates i and j \n",
    "            i = int(cellId/N)-1; \n",
    "            j = int(cellId%9); \n",
    "            #print(cellId, i, j); \n",
    "            if (j != 0): \n",
    "                j = j - 1; \n",
    "            if (self.mat[i][j] != 0):             \n",
    "                count-=1\n",
    "                self.mat[i][j] = 0\n",
    "\n",
    "    # Print sudoku \n",
    "    def printSudoku(self):\n",
    "        N = self.N\n",
    "        for i in range(N) :     #(int i = 0; i<N; i++)          \n",
    "            for j in range(N):     #(int j = 0; j<N; j++) \n",
    "                print(self.mat[i][j],\"\\t\") \n",
    "            print(); \n",
    "         \n",
    "        print(); \n",
    "     \n",
    "\n",
    "# Driver code \n",
    "def main():\n",
    "    N = 9; K = 50; \n",
    "    sudoku = Sudoku(N, K) \n",
    "    grid = sudoku.fillValues()\n",
    "    print(grid)\n",
    "    #sudoku.printSudoku()\n",
    "    #print(sudoku.sol)\n",
    "\n",
    "main()"
   ]
  },
  {
   "cell_type": "code",
   "execution_count": 31,
   "metadata": {},
   "outputs": [],
   "source": [
    "N, K = 9, 3\n",
    "#mat = np.array([[0]*N]*N)\n",
    "grid = Sudoku(N, K)"
   ]
  },
  {
   "cell_type": "code",
   "execution_count": 23,
   "metadata": {},
   "outputs": [
    {
     "data": {
      "text/plain": [
       "<__main__.Sudoku at 0x6f2a0bb0>"
      ]
     },
     "execution_count": 23,
     "metadata": {},
     "output_type": "execute_result"
    }
   ],
   "source": [
    "grid"
   ]
  },
  {
   "cell_type": "code",
   "execution_count": 24,
   "metadata": {},
   "outputs": [
    {
     "data": {
      "text/plain": [
       "array([[0, 0, 0, 0, 0, 0, 0, 0, 0],\n",
       "       [0, 0, 0, 0, 0, 0, 0, 0, 0],\n",
       "       [0, 0, 0, 0, 0, 0, 0, 0, 0],\n",
       "       [0, 0, 0, 0, 0, 0, 0, 0, 0],\n",
       "       [0, 0, 0, 0, 0, 0, 0, 0, 0],\n",
       "       [0, 0, 0, 0, 0, 0, 0, 0, 0],\n",
       "       [0, 0, 0, 0, 0, 0, 0, 0, 0],\n",
       "       [0, 0, 0, 0, 0, 0, 0, 0, 0],\n",
       "       [0, 0, 0, 0, 0, 0, 0, 0, 0]])"
      ]
     },
     "execution_count": 24,
     "metadata": {},
     "output_type": "execute_result"
    }
   ],
   "source": [
    "grid.mat"
   ]
  },
  {
   "cell_type": "code",
   "execution_count": 25,
   "metadata": {},
   "outputs": [
    {
     "data": {
      "text/plain": [
       "3"
      ]
     },
     "execution_count": 25,
     "metadata": {},
     "output_type": "execute_result"
    }
   ],
   "source": [
    "grid.SRN"
   ]
  },
  {
   "cell_type": "code",
   "execution_count": 26,
   "metadata": {},
   "outputs": [
    {
     "data": {
      "text/plain": [
       "0.21441059014955244"
      ]
     },
     "execution_count": 26,
     "metadata": {},
     "output_type": "execute_result"
    }
   ],
   "source": [
    "np.random.random()"
   ]
  },
  {
   "cell_type": "code",
   "execution_count": 27,
   "metadata": {},
   "outputs": [
    {
     "data": {
      "text/plain": [
       "False"
      ]
     },
     "execution_count": 27,
     "metadata": {},
     "output_type": "execute_result"
    }
   ],
   "source": [
    "grid.mat[0][0] !=0"
   ]
  },
  {
   "cell_type": "code",
   "execution_count": 35,
   "metadata": {},
   "outputs": [
    {
     "data": {
      "text/plain": [
       "[]"
      ]
     },
     "execution_count": 35,
     "metadata": {},
     "output_type": "execute_result"
    }
   ],
   "source": [
    "grid.sol"
   ]
  },
  {
   "cell_type": "code",
   "execution_count": null,
   "metadata": {},
   "outputs": [],
   "source": []
  },
  {
   "cell_type": "code",
   "execution_count": null,
   "metadata": {},
   "outputs": [],
   "source": []
  }
 ],
 "metadata": {
  "kernelspec": {
   "display_name": "Python 3",
   "language": "python",
   "name": "python3"
  },
  "language_info": {
   "codemirror_mode": {
    "name": "ipython",
    "version": 3
   },
   "file_extension": ".py",
   "mimetype": "text/x-python",
   "name": "python",
   "nbconvert_exporter": "python",
   "pygments_lexer": "ipython3",
   "version": "3.7.3"
  }
 },
 "nbformat": 4,
 "nbformat_minor": 2
}
